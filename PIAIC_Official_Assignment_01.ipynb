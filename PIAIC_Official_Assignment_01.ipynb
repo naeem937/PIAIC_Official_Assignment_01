{
 "cells": [
  {
   "cell_type": "markdown",
   "metadata": {},
   "source": [
    "## 1. Calculate Area of a Circle"
   ]
  },
  {
   "cell_type": "markdown",
   "metadata": {},
   "source": [
    "#### Write a Python program which accepts the radius of a circle from the user and compute the area.\n",
    "###### Program Console Sample Output 1:\n",
    "###### Input Radius: 0.5\n",
    "###### Area of Circle with radius 0.5 is 0.7853981634"
   ]
  },
  {
   "cell_type": "code",
   "execution_count": 1,
   "metadata": {},
   "outputs": [
    {
     "name": "stdout",
     "output_type": "stream",
     "text": [
      "Please input the Radius of Circle : 0.5\n",
      "The Area of a Circle with Radius 0.5 is 0.79\n"
     ]
    }
   ],
   "source": [
    "# Including Math Library So We Can Simply Get The Value of Pi(π)\n",
    "\n",
    "import math\n",
    "\n",
    "Radius = float(input(\"Please input the Radius of Circle : \"))\n",
    "\n",
    "Area_of_Circle = (math.pi*(Radius**2))  # Area = πr^2\n",
    "\n",
    "print(\"The Area of a Circle with Radius\", Radius, \"is\", round(Area_of_Circle,2))"
   ]
  },
  {
   "cell_type": "markdown",
   "metadata": {},
   "source": [
    "## 2. Check Number either positive, negative or zero"
   ]
  },
  {
   "cell_type": "markdown",
   "metadata": {},
   "source": [
    "#### Write a Python program to check if a number is positive, negative or zero\n",
    "###### Program Console Sample Output 1:\n",
    "###### Enter Number: -1\n",
    "##### Negative Number Entered\n",
    "###### Program Console Sample Output 2:\n",
    "##### Integer: 3\n",
    "##### Positive Number Entered\n",
    "###### Program Console Sample Output 3:\n",
    "##### Integer: 0\n",
    "###### Zero Entered"
   ]
  },
  {
   "cell_type": "code",
   "execution_count": 2,
   "metadata": {},
   "outputs": [
    {
     "name": "stdout",
     "output_type": "stream",
     "text": [
      "Enter The Number You Want to Check : -5\n",
      "The Number You Entered is 'Negative' \n",
      "\n",
      "Enter The Number You Want to Check : 3\n",
      "The Number You Entered is 'Positive' \n",
      "\n",
      "Enter The Number You Want to Check : 0\n",
      "The Number You Entered is 'Zero' \n",
      "\n"
     ]
    }
   ],
   "source": [
    "# Using Loop To Run the Program Three Times For The Desired Output\n",
    "\n",
    "for i in range(3):\n",
    "    \n",
    "    Number = int(input(\"Enter The Number You Want to Check : \"))\n",
    "    \n",
    "    if (Number<0):\n",
    "        print(\"The Number You Entered is 'Negative' \\n\")\n",
    "    elif (Number>0):\n",
    "        print(\"The Number You Entered is 'Positive' \\n\")\n",
    "    else:\n",
    "        print(\"The Number You Entered is 'Zero' \\n\")"
   ]
  },
  {
   "cell_type": "markdown",
   "metadata": {},
   "source": [
    "## 3. Divisibility Check of two numbers"
   ]
  },
  {
   "cell_type": "markdown",
   "metadata": {},
   "source": [
    "#### Write a Python program to check whether a number is completely divisible by another number. Accept two integer values form the user\n",
    "##### Program Console Sample Output 1:\n",
    "###### Enter numerator: 4\n",
    "###### Enter Denominator: 2\n",
    "##### Number 4 is Completely divisible by 2\n",
    "###### Program Console Sample Output 2:\n",
    "##### Enter numerator: 7\n",
    "\n",
    "##### Enter Denominator: 4\n",
    "###### Number 7 is not Completely divisible by 4"
   ]
  },
  {
   "cell_type": "code",
   "execution_count": 3,
   "metadata": {},
   "outputs": [
    {
     "name": "stdout",
     "output_type": "stream",
     "text": [
      "Please Enter Numerator : 4\n",
      "Please Enter Denominator : 2\n",
      "The Number 4 is Completely Divisible by 2 \n",
      "\n",
      "Please Enter Numerator : 7\n",
      "Please Enter Denominator : 4\n",
      "The Number 7 is Not Completely Divisible by 4 \n",
      "\n"
     ]
    }
   ],
   "source": [
    "# Using Loop To Run the Program Two Times For The Desired Output\n",
    "\n",
    "for i in range(2):\n",
    "    \n",
    "    Numerator = int(input(\"Please Enter Numerator : \"))\n",
    "    Denominator = int(input(\"Please Enter Denominator : \"))\n",
    "    \n",
    "    if (Numerator%Denominator==0):\n",
    "        print(\"The Number\", Numerator, \"is Completely Divisible by\", Denominator, \"\\n\")\n",
    "    else:\n",
    "        print(\"The Number\", Numerator, \"is Not Completely Divisible by\", Denominator, \"\\n\")"
   ]
  },
  {
   "cell_type": "markdown",
   "metadata": {},
   "source": [
    "## 4. Calculate Volume of a sphere"
   ]
  },
  {
   "cell_type": "markdown",
   "metadata": {},
   "source": [
    "##### Write a Python program to get the volume of a sphere, please take the radius as input from user"
   ]
  },
  {
   "cell_type": "markdown",
   "metadata": {},
   "source": [
    "##### Program Console Output:\n",
    "##### Enter Radius of Sphere: 1\n",
    "###### Volume of the Sphere with Radius 1 is 4.18"
   ]
  },
  {
   "cell_type": "code",
   "execution_count": 4,
   "metadata": {},
   "outputs": [
    {
     "name": "stdout",
     "output_type": "stream",
     "text": [
      "Please input the Radius of Sphere : 1\n",
      "The Volume of a Sphere with Radius 1.0 is 4.19\n"
     ]
    }
   ],
   "source": [
    "# Including Math Library So We Can Simply Get The Value of Pi(π)\n",
    "\n",
    "import math\n",
    "\n",
    "Radius = float(input(\"Please input the Radius of Sphere : \"))\n",
    "\n",
    "Volume_of_Sphere = (4/3)*(math.pi*(Radius**3))  # Area = πr^2\n",
    "\n",
    "print(\"The Volume of a Sphere with Radius\", Radius, \"is\", round(Volume_of_Sphere,2))"
   ]
  },
  {
   "cell_type": "markdown",
   "metadata": {},
   "source": [
    "## 5. Copy string n times\n",
    "#### Write a Python program to get a string which is n (non-negative integer) copies of a given string.\n",
    "##### Program Console Output:\n",
    "##### Enter String: Hi\n",
    "###### How many copies of String you need: 4\n",
    "###### 4 Copies of Hi are HiHiHiHi"
   ]
  },
  {
   "cell_type": "code",
   "execution_count": 5,
   "metadata": {},
   "outputs": [
    {
     "name": "stdout",
     "output_type": "stream",
     "text": [
      "Please Enter The String : Hi\n",
      "How Many Copies of String You Need? : 5\n",
      "HiHiHiHiHi"
     ]
    }
   ],
   "source": [
    "# Copying String N Times\n",
    "\n",
    "String = input(\"Please Enter The String : \")\n",
    "\n",
    "Copies = int(input(\"How Many Copies of String You Need? : \"))\n",
    "\n",
    "for i in range(0,Copies):\n",
    "    print(String, end=\"\")"
   ]
  },
  {
   "cell_type": "markdown",
   "metadata": {},
   "source": [
    "## 6. Check if number is Even or Odd\n",
    "### Write a Python program to find whether a given number (accept from the user) is even or odd, print out an appropriate message to the user\n",
    "#### Program Console Output 1:\n",
    "##### Enter Number: 4\n",
    "###### 4 is Even\n",
    "#### Program Console Output 2:\n",
    "##### Enter Number: 9\n",
    "###### 9 is Odd"
   ]
  },
  {
   "cell_type": "code",
   "execution_count": 6,
   "metadata": {},
   "outputs": [
    {
     "name": "stdout",
     "output_type": "stream",
     "text": [
      "Enter The Number You Want To Check : 6\n",
      "The Number 6 is Even\n",
      "Enter The Number You Want To Check : 11\n",
      "The Number 11 is Odd\n"
     ]
    }
   ],
   "source": [
    "# Checking Number Even OR Odd\n",
    "\n",
    "\n",
    "for i in range(2):\n",
    "    Number = int(input(\"Enter The Number You Want To Check : \"))\n",
    "\n",
    "    if (Number%2==0):\n",
    "        print(\"The Number\", Number, \"is Even\")\n",
    "    else:\n",
    "        print(\"The Number\", Number, \"is Odd\")"
   ]
  },
  {
   "cell_type": "markdown",
   "metadata": {},
   "source": [
    "## 7. Vowel Tester\n",
    "### Write a Python program to test whether a passed letter is a vowel or not\n",
    "#### Program Console Output 1:\n",
    "##### Enter a character: A\n",
    "###### Letter A is Vowel\n",
    "#### Program Console Output 2:\n",
    "##### Enter a character: e\n",
    "###### Letter e is Vowel\n",
    "#### Program Console Output 2:\n",
    "##### Enter a character: N\n",
    "###### Letter N is not Vowel"
   ]
  },
  {
   "cell_type": "code",
   "execution_count": 7,
   "metadata": {},
   "outputs": [
    {
     "name": "stdout",
     "output_type": "stream",
     "text": [
      "Enter Any Alphabet : A\n",
      "Letter A is 'Vowel'\n",
      "\n",
      "Enter Any Alphabet : e\n",
      "Letter e is 'Vowel'\n",
      "\n",
      "Enter Any Alphabet : N\n",
      "Letter N is Not 'Vowel'\n",
      "\n"
     ]
    }
   ],
   "source": [
    "# Checking Whether The Alphabet is Vowel or Not\n",
    "\n",
    "for i in range(3):\n",
    "    Alphabet = input(\"Enter Any Alphabet : \")\n",
    "        \n",
    "    if (Alphabet.lower() in {'a','e','i','o','u'}):\n",
    "        print(\"Letter\", Alphabet, \"is 'Vowel'\\n\")\n",
    "    else:\n",
    "        print(\"Letter\", Alphabet, \"is Not 'Vowel'\\n\")"
   ]
  },
  {
   "cell_type": "markdown",
   "metadata": {},
   "source": [
    "## 8. Triangle area\n",
    "### Write a Python program that will accept the base and height of a triangle and compute the area\n",
    "###### Reference:\n",
    "https://www.mathgoodies.com/lessons/vol1/area_triangle"
   ]
  },
  {
   "cell_type": "code",
   "execution_count": 8,
   "metadata": {},
   "outputs": [
    {
     "name": "stdout",
     "output_type": "stream",
     "text": [
      "Enter The Base of The Triangle : 10\n",
      "Enter The Height of The Triangle : 2\n",
      "The Area of Triangle is : 10.0\n"
     ]
    }
   ],
   "source": [
    "# Calculating The Area of Triangle\n",
    "\n",
    "Base = float(input(\"Enter The Base of The Triangle : \"))\n",
    "\n",
    "Height = float(input(\"Enter The Height of The Triangle : \"))\n",
    "\n",
    "Area_of_Triangle = (1/2)*(Base*Height)\n",
    "\n",
    "print(\"The Area of Triangle is :\", Area_of_Triangle)"
   ]
  },
  {
   "cell_type": "markdown",
   "metadata": {},
   "source": [
    "## 9. Calculate Interest\n",
    "### Write a Python program to compute the future value of a specified principal amount, rate of interest, and a number of years\n",
    "#### Program Console Sample 1:\n",
    "##### Please enter principal amount: 10000\n",
    "###### Please Enter Rate of interest in %: 0.1\n",
    "###### Enter number of years for investment: 5\n",
    "###### After 5 years your principal amount 10000 over an interest rate of 0.1 % will be 16105.1"
   ]
  },
  {
   "cell_type": "code",
   "execution_count": 9,
   "metadata": {},
   "outputs": [
    {
     "name": "stdout",
     "output_type": "stream",
     "text": [
      "Please Enter The Principal Amount : 10000\n",
      "Please Enter The Rate of Interest in %(1-100) : 10\n",
      "Please Enter The Number of Years of Investment : 5\n",
      "After 5 Years of Your Principal Amount 10000 Over an Interest Rate of 10 % Will Be 16105.1\n"
     ]
    }
   ],
   "source": [
    "# Calculating Interest\n",
    "\n",
    "Principal_Amount = int(input(\"Please Enter The Principal Amount : \"))\n",
    "\n",
    "Rate_of_Interest = int(input(\"Please Enter The Rate of Interest in %(1-100) : \"))\n",
    "\n",
    "No_of_Years = int(input(\"Please Enter The Number of Years of Investment : \"))\n",
    "\n",
    "# Reference For Formula http://financeformulas.net/Future_Value.html\n",
    "Future_Value_Calculator = Principal_Amount*(1+(Rate_of_Interest/100))**No_of_Years\n",
    "\n",
    "print(\"After\", No_of_Years, \"Years of Your Principal Amount\", Principal_Amount, \"Over an Interest Rate of\", Rate_of_Interest, \"% Will Be\", round(Future_Value_Calculator, 2))"
   ]
  },
  {
   "cell_type": "markdown",
   "metadata": {},
   "source": [
    "## 10. Euclidean distance\n",
    "### write a Python program to compute the distance between the points (x1, y1) and (x2, y2).\n",
    "#### Program Console Sample 1:\n",
    "###### Enter Co-ordinate for x1: 2\n",
    "###### Enter Co-ordinate for x2: 4\n",
    "###### Enter Co-ordinate for y1: 4\n",
    "###### Enter Co-ordinate for y2: 4\n",
    "###### Distance between points (2, 4) and (4, 4) is 2"
   ]
  },
  {
   "cell_type": "markdown",
   "metadata": {},
   "source": [
    "###### Reference:\n",
    "https://en.wikipedia.org/wiki/Euclidean_distance"
   ]
  },
  {
   "cell_type": "code",
   "execution_count": 10,
   "metadata": {},
   "outputs": [
    {
     "name": "stdout",
     "output_type": "stream",
     "text": [
      "Enter The Coordinate for X1 : 4\n",
      "Enter The Coordinate for X2 : 2\n",
      "Enter The Coordinate for Y1 : 2\n",
      "Enter The Coordinate for Y2 : 2\n",
      "Distance Between Points (4,2) And (2,2) is 2.0\n"
     ]
    }
   ],
   "source": [
    "# Calculating Euclidean Distance Using Math Library\n",
    "\n",
    "import math\n",
    "\n",
    "X1 = int(input(\"Enter The Coordinate for X1 : \"))\n",
    "X2 = int(input(\"Enter The Coordinate for X2 : \"))\n",
    "Y1 = int(input(\"Enter The Coordinate for Y1 : \"))\n",
    "Y2 = int(input(\"Enter The Coordinate for Y2 : \"))\n",
    "\n",
    "Euc_Dist = math.sqrt((X2-X1)**2 + (Y2-Y1)**2)  #\n",
    "\n",
    "print(\"Distance Between Points (\"+str(X1)+\",\"+str(Y1)+\") And (\"+str(X2)+\",\"+str(Y2)+\") is\",Euc_Dist)"
   ]
  },
  {
   "cell_type": "markdown",
   "metadata": {},
   "source": [
    "## 11. Feet to Centimeter Converter\n",
    "### Write a Python program to convert height in feet to centimetres.\n",
    "##### Program Console Sample 1:\n",
    "###### Enter Height in Feet: 5\n",
    "###### There are 152.4 Cm in 5 ft\n",
    "###### Reference:\n",
    "https://www.rapidtables.com/convert/length/feet-to-cm.html"
   ]
  },
  {
   "cell_type": "code",
   "execution_count": 11,
   "metadata": {},
   "outputs": [
    {
     "name": "stdout",
     "output_type": "stream",
     "text": [
      "Please Enter The Height in Feet : 5\n",
      "There Are 152.4 Cm in  5.0 Ft\n"
     ]
    }
   ],
   "source": [
    "# Feet To Centimeter Convertor\n",
    "\n",
    "Feet = float(input(\"Please Enter The Height in Feet : \"))\n",
    "\n",
    "Centimeter = Feet*30.48\n",
    "\n",
    "print(\"There Are\", round(Centimeter,2), \"Cm in \", Feet, \"Ft\")"
   ]
  },
  {
   "cell_type": "markdown",
   "metadata": {},
   "source": [
    "## 12. BMI Calculator\n",
    "### Write a Python program to calculate body mass index\n",
    "##### Program Console Sample 1:\n",
    "###### Enter Height in Cm: 180\n",
    "###### Enter Weight in Kg: 75\n",
    "###### Your BMI is 23.15"
   ]
  },
  {
   "cell_type": "code",
   "execution_count": 14,
   "metadata": {},
   "outputs": [
    {
     "name": "stdout",
     "output_type": "stream",
     "text": [
      "Please Enter The Height in Cm : 180\n",
      "Please Enter The Weight in Kg : 75\n",
      "Your BMI is 23.15\n"
     ]
    }
   ],
   "source": [
    "# Body Mass Index Calculator\n",
    "\n",
    "Height = float(input(\"Please Enter The Height in Cm : \"))\n",
    "\n",
    "Weight = float(input(\"Please Enter The Weight in Kg : \"))\n",
    "\n",
    "BMI = (Weight/(Height/100)**2)\n",
    "\n",
    "print(\"Your BMI is\", round(BMI,2))"
   ]
  },
  {
   "cell_type": "markdown",
   "metadata": {},
   "source": [
    "## 13. Sum of n Positive Integers\n",
    "### Write a python program to sum of the first n positive integers\n",
    "#### Program Console Sample 1:\n",
    "###### Enter value of n: 5\n",
    "###### Sum of n Positive integers till 5 is 15"
   ]
  },
  {
   "cell_type": "code",
   "execution_count": 15,
   "metadata": {},
   "outputs": [
    {
     "name": "stdout",
     "output_type": "stream",
     "text": [
      "Please Enter The Value of N : 5\n",
      "Sum of N Positive Integers till 5 is 15\n"
     ]
    }
   ],
   "source": [
    "Number = int(input(\"Please Enter The Value of N : \"))\n",
    "\n",
    "Sum = 0\n",
    "\n",
    "\n",
    "for i in range (1, Number+1):\n",
    "    Sum += i\n",
    "\n",
    "print(\"Sum of N Positive Integers till\", Number, \"is\", Sum)"
   ]
  },
  {
   "cell_type": "markdown",
   "metadata": {},
   "source": [
    "## 14. Digits Sum of a Number\n",
    "### Write a Python program to calculate the sum of the digits in an integer\n",
    "#### Program Console Sample 1:\n",
    "##### Enter a number: 15\n",
    "###### Sum of 1 + 5 is 6\n",
    "#### Program Console Sample 2:\n",
    "##### Enter a number: 1234\n",
    "###### Sum of 1 + 2 + 3 + 4 is 10"
   ]
  },
  {
   "cell_type": "code",
   "execution_count": 16,
   "metadata": {},
   "outputs": [
    {
     "name": "stdout",
     "output_type": "stream",
     "text": [
      "Please Enter Any Number of More Than 1 Digit : 15\n",
      "Sum of 1 + 5 = 6\n",
      "\n",
      "Please Enter Any Number of More Than 1 Digit : 1234\n",
      "Sum of 1 + 2 + 3 + 4 = 10\n",
      "\n",
      "Please Enter Any Number of More Than 1 Digit : 4321\n",
      "Sum of 4 + 3 + 2 + 1 = 10\n",
      "\n",
      "Please Enter Any Number of More Than 1 Digit : 123456789\n",
      "Sum of 1 + 2 + 3 + 4 + 5 + 6 + 7 + 8 + 9 = 45\n",
      "\n"
     ]
    }
   ],
   "source": [
    "# Digits Sum of Number Using Loop & Conditions\n",
    "\n",
    "# To Show Multiple Outputs We Run The Programs 4 Times\n",
    "for i in range(4):\n",
    "    Number = int(input(\"Please Enter Any Number of More Than 1 Digit : \"))\n",
    "\n",
    "    Sum = 0\n",
    "\n",
    "    SNumber = str(Number)\n",
    "\n",
    "    # Using Loop For Calculating The Digits Sum\n",
    "    while(Number>0):\n",
    "        Sum += Number%10\n",
    "        Number = int(Number/10)\n",
    "    \n",
    "\n",
    "    print(\"Sum of \", end=\"\")\n",
    "\n",
    "    for i in range(0,len(SNumber)):\n",
    "        if (i!=(len(SNumber)-1)):\n",
    "            print(SNumber[i],\"+\",end=\" \")\n",
    "        else:\n",
    "            print(SNumber[i],\"=\",end=\" \")\n",
    "\n",
    "    print(Sum, end=\"\")\n",
    "    print(\"\\n\")"
   ]
  }
 ],
 "metadata": {
  "kernelspec": {
   "display_name": "Python 3",
   "language": "python",
   "name": "python3"
  },
  "language_info": {
   "codemirror_mode": {
    "name": "ipython",
    "version": 3
   },
   "file_extension": ".py",
   "mimetype": "text/x-python",
   "name": "python",
   "nbconvert_exporter": "python",
   "pygments_lexer": "ipython3",
   "version": "3.7.3"
  }
 },
 "nbformat": 4,
 "nbformat_minor": 2
}
